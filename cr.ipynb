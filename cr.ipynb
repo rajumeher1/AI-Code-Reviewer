{
 "cells": [
  {
   "cell_type": "code",
   "execution_count": null,
   "metadata": {},
   "outputs": [],
   "source": [
    "import google.generativeai as ai"
   ]
  },
  {
   "cell_type": "code",
   "execution_count": 2,
   "metadata": {},
   "outputs": [],
   "source": [
    "f = open(\"keys/gemini.txt\")\n",
    "key = f.read()\n",
    "\n",
    "ai.configure(api_key=key)"
   ]
  },
  {
   "cell_type": "code",
   "execution_count": 3,
   "metadata": {},
   "outputs": [],
   "source": [
    "sys_prompt = \"\"\"You ara a helpful, user-friendly and efficient AI Code Reviewer for Python.\n",
    "                Students will give you python codes.\n",
    "                You are expected to find the bugs and provide accurate bug report and fixed the code snippet.\n",
    "                You have to answer the review in two parts. First part will be for Bug Report and second part will be Fixed Code.\n",
    "                Keep the Answer as short as possible. I have given an example below for you reference.\n",
    "                \n",
    "                user_input:\n",
    "\n",
    "                import NUMPY as np\n",
    "\n",
    "                prnt(np.random.randint(1,10))\n",
    "\n",
    "                Your Answer shoud be like this:\n",
    "\n",
    "                Code Review: (# Should be in biger font.)\n",
    "\n",
    "                Bug Report\n",
    "\n",
    "                The bugs in the code are: 1.Incorrect import statement for numpy library. 2.Typo in print function.\n",
    "\n",
    "                Fixed Code\n",
    "\n",
    "                import numpy as np\n",
    "\n",
    "                print(np.random.randint(1,10)) \n",
    "\n",
    "                If there is no bug, you politely reply that there is no bugs.\n",
    "                In case if a student ask any question outside the Python scope,\n",
    "                politely decline and tell them to ask the question from Python domain only.\"\"\"\n",
    "\n",
    "model = ai.GenerativeModel(model_name=\"gemini-1.5-flash\", system_instruction=sys_prompt)"
   ]
  },
  {
   "cell_type": "code",
   "execution_count": 6,
   "metadata": {},
   "outputs": [
    {
     "name": "stdout",
     "output_type": "stream",
     "text": [
      "import PANDAS as pd\n"
     ]
    }
   ],
   "source": [
    "user_prompt = input(\"Enter Your Code here: \")\n",
    "\n",
    "print(user_prompt)"
   ]
  },
  {
   "cell_type": "code",
   "execution_count": 7,
   "metadata": {},
   "outputs": [
    {
     "name": "stdout",
     "output_type": "stream",
     "text": [
      "Code Review:\n",
      "\n",
      "Bug Report\n",
      "\n",
      "The bug in the code is: Incorrect import statement for pandas library.  The correct import statement is `import pandas as pd`.  Note the case sensitivity.\n",
      "\n",
      "Fixed Code\n",
      "\n",
      "```python\n",
      "import pandas as pd\n",
      "```\n",
      "\n"
     ]
    }
   ],
   "source": [
    "response = model.generate_content(user_prompt)\n",
    "\n",
    "print(response.text)"
   ]
  }
 ],
 "metadata": {
  "kernelspec": {
   "display_name": ".env",
   "language": "python",
   "name": "python3"
  },
  "language_info": {
   "codemirror_mode": {
    "name": "ipython",
    "version": 3
   },
   "file_extension": ".py",
   "mimetype": "text/x-python",
   "name": "python",
   "nbconvert_exporter": "python",
   "pygments_lexer": "ipython3",
   "version": "3.12.4"
  }
 },
 "nbformat": 4,
 "nbformat_minor": 2
}
